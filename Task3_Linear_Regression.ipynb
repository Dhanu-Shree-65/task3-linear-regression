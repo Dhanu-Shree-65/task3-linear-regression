{
 "cells": [
  {
   "cell_type": "markdown",
   "id": "eb5832c9",
   "metadata": {},
   "source": [
    "# Task 3: Linear Regression - AI & ML Internship\n",
    "*Date: 2025-06-26*\n",
    "\n",
    "This notebook implements **Simple and Multiple Linear Regression** on the Housing Price Prediction dataset."
   ]
  },
  {
   "cell_type": "markdown",
   "id": "40df71db",
   "metadata": {},
   "source": [
    "## Step 1: Import Libraries"
   ]
  },
  {
   "cell_type": "code",
   "execution_count": null,
   "id": "186628cb",
   "metadata": {},
   "outputs": [],
   "source": [
    "import pandas as pd\n",
    "import numpy as np\n",
    "import matplotlib.pyplot as plt\n",
    "import seaborn as sns\n",
    "\n",
    "from sklearn.model_selection import train_test_split\n",
    "from sklearn.linear_model import LinearRegression\n",
    "from sklearn.metrics import mean_absolute_error, mean_squared_error, r2_score\n"
   ]
  },
  {
   "cell_type": "markdown",
   "id": "ee426de5",
   "metadata": {},
   "source": [
    "## Step 2: Load the Dataset"
   ]
  },
  {
   "cell_type": "code",
   "execution_count": null,
   "id": "5a2a7c02",
   "metadata": {},
   "outputs": [],
   "source": [
    "from google.colab import files\n",
    "uploaded = files.upload()\n",
    "\n",
    "# Assuming file name is 'Housing.csv'\n",
    "df = pd.read_csv(\"Housing.csv\")\n",
    "df.head()"
   ]
  },
  {
   "cell_type": "markdown",
   "id": "fe85916d",
   "metadata": {},
   "source": [
    "## Step 3: Preprocess the Dataset"
   ]
  },
  {
   "cell_type": "code",
   "execution_count": null,
   "id": "613ea655",
   "metadata": {},
   "outputs": [],
   "source": [
    "# Convert yes/no columns to binary\n",
    "binary_cols = ['mainroad', 'guestroom', 'basement', 'hotwaterheating', 'airconditioning', 'prefarea']\n",
    "for col in binary_cols:\n",
    "    df[col] = df[col].map({'yes': 1, 'no': 0})\n",
    "\n",
    "# One-hot encode 'furnishingstatus'\n",
    "df = pd.concat([df.drop('furnishingstatus', axis=1), \n",
    "                pd.get_dummies(df['furnishingstatus'], drop_first=True)], axis=1)\n",
    "\n",
    "df.head()"
   ]
  },
  {
   "cell_type": "markdown",
   "id": "99a7e800",
   "metadata": {},
   "source": [
    "## Step 4: Split the Data into Train and Test Sets"
   ]
  },
  {
   "cell_type": "code",
   "execution_count": null,
   "id": "c4f2508c",
   "metadata": {},
   "outputs": [],
   "source": [
    "X = df.drop('price', axis=1)\n",
    "y = df['price']\n",
    "\n",
    "X_train, X_test, y_train, y_test = train_test_split(X, y, test_size=0.2, random_state=42)\n"
   ]
  },
  {
   "cell_type": "markdown",
   "id": "83fd6284",
   "metadata": {},
   "source": [
    "## Step 5: Train the Linear Regression Model"
   ]
  },
  {
   "cell_type": "code",
   "execution_count": null,
   "id": "7c9d7ddc",
   "metadata": {},
   "outputs": [],
   "source": [
    "lr = LinearRegression()\n",
    "lr.fit(X_train, y_train)"
   ]
  },
  {
   "cell_type": "markdown",
   "id": "b4e6b5f8",
   "metadata": {},
   "source": [
    "## Step 6: View Coefficients and Intercept"
   ]
  },
  {
   "cell_type": "code",
   "execution_count": null,
   "id": "f3f420c6",
   "metadata": {},
   "outputs": [],
   "source": [
    "print(\"Intercept:\", lr.intercept_)\n",
    "print(\"Coefficients:\", lr.coef_)"
   ]
  },
  {
   "cell_type": "markdown",
   "id": "2ec4b1e1",
   "metadata": {},
   "source": [
    "## Step 7: Make Predictions on Test Set"
   ]
  },
  {
   "cell_type": "code",
   "execution_count": null,
   "id": "35423698",
   "metadata": {},
   "outputs": [],
   "source": [
    "y_pred = lr.predict(X_test)\n",
    "y_pred[:5]"
   ]
  },
  {
   "cell_type": "markdown",
   "id": "f9891717",
   "metadata": {},
   "source": [
    "## Step 8: Evaluate the Model"
   ]
  },
  {
   "cell_type": "code",
   "execution_count": null,
   "id": "c10e29ea",
   "metadata": {},
   "outputs": [],
   "source": [
    "mae = mean_absolute_error(y_test, y_pred)\n",
    "mse = mean_squared_error(y_test, y_pred)\n",
    "r2 = r2_score(y_test, y_pred)\n",
    "\n",
    "print(\"Mean Absolute Error (MAE):\", mae)\n",
    "print(\"Mean Squared Error (MSE):\", mse)\n",
    "print(\"R² Score:\", r2)"
   ]
  },
  {
   "cell_type": "markdown",
   "id": "33bc6fea",
   "metadata": {},
   "source": [
    "## Step 9: Plotting (Optional for Simple Regression)"
   ]
  },
  {
   "cell_type": "code",
   "execution_count": null,
   "id": "b4e82141",
   "metadata": {},
   "outputs": [],
   "source": [
    "# Example using area if you want to visualize simple regression\n",
    "if 'area' in X_test.columns:\n",
    "    plt.scatter(X_test['area'], y_test, color='blue', label='Actual')\n",
    "    plt.scatter(X_test['area'], y_pred, color='red', label='Predicted')\n",
    "    plt.xlabel('Area')\n",
    "    plt.ylabel('Price')\n",
    "    plt.title('Linear Regression: Area vs Price')\n",
    "    plt.legend()\n",
    "    plt.show()"
   ]
  }
 ],
 "metadata": {},
 "nbformat": 4,
 "nbformat_minor": 5
}